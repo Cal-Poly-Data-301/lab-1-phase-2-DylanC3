{
  "nbformat": 4,
  "nbformat_minor": 0,
  "metadata": {
    "kernelspec": {
      "display_name": "Python 3",
      "language": "python",
      "name": "python3"
    },
    "language_info": {
      "codemirror_mode": {
        "name": "ipython",
        "version": 3
      },
      "file_extension": ".py",
      "mimetype": "text/x-python",
      "name": "python",
      "nbconvert_exporter": "python",
      "pygments_lexer": "ipython3",
      "version": "3.6.4"
    },
    "colab": {
      "name": "DATA 301 Lab 1B - Phase2",
      "provenance": [],
      "collapsed_sections": [],
      "include_colab_link": true
    }
  },
  "cells": [
    {
      "cell_type": "markdown",
      "metadata": {
        "id": "view-in-github",
        "colab_type": "text"
      },
      "source": [
        "<a href=\"https://colab.research.google.com/github/Cal-Poly-Data-301/lab-1-phase-2-DylanC3/blob/main/DATA_301_Lab_1B_Phase2.ipynb\" target=\"_parent\"><img src=\"https://colab.research.google.com/assets/colab-badge.svg\" alt=\"Open In Colab\"/></a>"
      ]
    },
    {
      "cell_type": "markdown",
      "metadata": {
        "id": "uQm3Aekkc8kE"
      },
      "source": [
        "# Explore the In Class Survey\n",
        "\n",
        "During the first class, you filled out the [first-day survey](https://docs.google.com/forms/d/e/1FAIpQLSczqKwzkye0RP8byLMxzj1Br3kC_YUdVGLWmMXX6VND99ivWg/viewform). In this lab, you will explore [the responses](https://docs.google.com/spreadsheets/d/1K9rfAscLESbwvovOc1aD3K6PFgdqkVRbaFHeD-UMTSc/edit?usp=sharing).\n",
        "\n",
        "Download the spreadsheet from the link above, then read the data into a `pandas` `DataFrame` whose columns are the survey questions. Each row represents one student's response to the questions."
      ]
    },
    {
      "cell_type": "markdown",
      "metadata": {
        "id": "k54rkU7Ec8kO"
      },
      "source": [
        "## Question 1\n",
        "\n",
        "Make a graphic that visualizes the favorite colors of students in DATA 301. Explain what you see.\n",
        "\n",
        "(_Hint:_ You might have to clean the data a bit first.)"
      ]
    },
    {
      "cell_type": "code",
      "metadata": {
        "id": "Ym53WixOc8kL",
        "colab": {
          "base_uri": "https://localhost:8080/",
          "height": 354
        },
        "outputId": "7f1635c1-e960-4d57-fd51-1b35aa32b3e4"
      },
      "source": [
        "import pandas as pd\n",
        "sheet_url = \"https://docs.google.com/spreadsheets/d/1K9rfAscLESbwvovOc1aD3K6PFgdqkVRbaFHeD-UMTSc/edit#gid=970845822\"\n",
        "url_1 = sheet_url.replace('/edit#gid=', '/export?format=csv&gid=')\n",
        "\n",
        "df_survey = pd.read_csv(url_1)\n",
        "\n",
        "def lower_func(s):\n",
        "  return s.lower()\n",
        "\n",
        "df_survey['What is your favorite color?'] = df_survey['What is your favorite color?'].map(lower_func) # clean data\n",
        "df_survey['What is your favorite color?'].value_counts().plot.bar()"
      ],
      "execution_count": 1,
      "outputs": [
        {
          "output_type": "execute_result",
          "data": {
            "text/plain": [
              "<matplotlib.axes._subplots.AxesSubplot at 0x7f4c60a3c5d0>"
            ]
          },
          "metadata": {},
          "execution_count": 1
        },
        {
          "output_type": "display_data",
          "data": {
            "image/png": "[encoded data removed]",
            "text/plain": [
              "<Figure size 432x288 with 1 Axes>"
            ]
          },
          "metadata": {
            "needs_background": "light"
          }
        }
      ]
    },
    {
      "cell_type": "code",
      "source": [
        "# since it's open ended question there's lots of variation of answers.\n",
        "# blue is by far the most favorite color with other variations of blue included as well."
      ],
      "metadata": {
        "id": "oyWBObv7KdnH"
      },
      "execution_count": null,
      "outputs": []
    },
    {
      "cell_type": "markdown",
      "metadata": {
        "id": "EDUBQeggc8kK"
      },
      "source": [
        "## Question 2\n",
        "\n",
        "Is there a relationship between the number of siblings a student has, and whether or not they live in SLO?\n",
        "\n",
        "Make a visualization to address this question, and discuss the result."
      ]
    },
    {
      "cell_type": "code",
      "source": [
        "df_survey['Where are you living this quarter?'].value_counts()"
      ],
      "metadata": {
        "colab": {
          "base_uri": "https://localhost:8080/"
        },
        "id": "ihQViamEskuy",
        "outputId": "a5e3d477-89fd-4492-95f1-590b83950df1"
      },
      "execution_count": 2,
      "outputs": [
        {
          "output_type": "execute_result",
          "data": {
            "text/plain": [
              "Off Campus, but in SLO        30\n",
              "Off Campus, outside of SLO    25\n",
              "On-Campus housing              2\n",
              "Name: Where are you living this quarter?, dtype: int64"
            ]
          },
          "metadata": {},
          "execution_count": 2
        }
      ]
    },
    {
      "cell_type": "code",
      "metadata": {
        "id": "TpDoV7rvc8kO",
        "colab": {
          "base_uri": "https://localhost:8080/",
          "height": 293
        },
        "outputId": "dca60b84-09c8-4570-9193-95c42cd85049"
      },
      "source": [
        "df_survey[\"live_in_slo\"] = df_survey['Where are you living this quarter?'].map({\n",
        "    \"Off Campus, but in SLO\" : \"yes\",\n",
        "    \"Off Campus, outside of SLO\" : \"no\",\n",
        "    \"On-Campus housing\" : \"yes\"\n",
        "})\n",
        "\n",
        "joint_siblings_slo = pd.crosstab(df_survey[\"How many siblings do you have?\"], df_survey[\"live_in_slo\"], normalize=True)\n",
        "live_in_slo_dist = joint_siblings_slo.sum(axis=1) # sum live in slo over siblings\n",
        "cond_sib_given_slo = joint_siblings_slo.divide(live_in_slo_dist, axis=0) \n",
        "\n",
        "cond_sib_given_slo.plot.bar()"
      ],
      "execution_count": 3,
      "outputs": [
        {
          "output_type": "execute_result",
          "data": {
            "text/plain": [
              "<matplotlib.axes._subplots.AxesSubplot at 0x7f4c6044d750>"
            ]
          },
          "metadata": {},
          "execution_count": 3
        },
        {
          "output_type": "display_data",
          "data": {
            "image/png": "[encoded data removed]",
            "text/plain": [
              "<Figure size 432x288 with 1 Axes>"
            ]
          },
          "metadata": {
            "needs_background": "light"
          }
        }
      ]
    },
    {
      "cell_type": "code",
      "source": [
        "# It appears that with 0 siblings, most students choose to live outside of SLO, and with 3 or more siblings, \n",
        "# they also tend to live outside of SLO. The only students that are more likely to stay within SLO are those who \n",
        "# have 1 or 2 siblings. This data may be skewed however because very few siblings have 1, 3, and 5 siblings compared \n",
        "# to those with 1 or 2, so outliers will heavily impact the data."
      ],
      "metadata": {
        "id": "3GGHsBInv7ex"
      },
      "execution_count": null,
      "outputs": []
    },
    {
      "cell_type": "markdown",
      "metadata": {
        "id": "OWml6cxtc8kR"
      },
      "source": [
        "## Question 3\n",
        "\n",
        "You were asked to guess how many golf balls fit into a standard-sized school bus.  This is actually a famous Google interview question!  The best answer I could find online is [here](https://www.quora.com/How-many-golf-balls-can-fit-into-a-school-bus).\n",
        "\n",
        "How did the different subgroups in the class do on this question?  That is, can you find an interesting relationship between the golf ball numbers guess and any of the other variables in this dataset?\n",
        "\n",
        "(_Hint:_ There are many reasonable approaches to this problem. You will get full credit for any reasonable approach, as long as you carefully justify it.)"
      ]
    },
    {
      "cell_type": "code",
      "source": [
        "# assuming the correct answer is 884520\n",
        "def calc_percent_error(v):\n",
        "  return ((abs(v - 884520)) / 884520) * 100\n",
        "df_survey[\"percent_error\"] = df_survey['Suppose you wanted to fill an average-sized school bus entirely with golf balls.  How many golf balls do you think you would need?'].map(calc_percent_error)"
      ],
      "metadata": {
        "id": "-n0L7KamjPd8"
      },
      "execution_count": 55,
      "outputs": []
    },
    {
      "cell_type": "code",
      "metadata": {
        "id": "JTnwnsjZc8kS",
        "colab": {
          "base_uri": "https://localhost:8080/"
        },
        "outputId": "085dbbaf-cd58-4a52-8c97-6ef70b0c8741"
      },
      "source": [
        "df_survey[df_survey[\"Do you consider yourself artistic?\"] == \"Yes\"].percent_error.mean(), df_survey[df_survey[\"Do you consider yourself artistic?\"] == \"No\"].percent_error.mean()"
      ],
      "execution_count": 58,
      "outputs": [
        {
          "output_type": "execute_result",
          "data": {
            "text/plain": [
              "(140.64439273376473, 118.7957755231247)"
            ]
          },
          "metadata": {},
          "execution_count": 58
        }
      ]
    },
    {
      "cell_type": "code",
      "source": [
        "df_survey[df_survey[\"Do you consider yourself artistic?\"] == \"Yes\"].percent_error.median(), df_survey[df_survey[\"Do you consider yourself artistic?\"] == \"No\"].percent_error.median()"
      ],
      "metadata": {
        "colab": {
          "base_uri": "https://localhost:8080/"
        },
        "id": "msAOfn_drgyZ",
        "outputId": "797fb2f4-8296-4395-e007-195a5b92e66c"
      },
      "execution_count": 57,
      "outputs": [
        {
          "output_type": "execute_result",
          "data": {
            "text/plain": [
              "(96.72590783701894, 88.69443313887759)"
            ]
          },
          "metadata": {},
          "execution_count": 57
        }
      ]
    },
    {
      "cell_type": "code",
      "source": [
        "df_survey[df_survey[\"Do you consider yourself a sports fan?\"] == \"Yes\"].percent_error.mean(), df_survey[df_survey[\"Do you consider yourself a sports fan?\"] == \"No\"].percent_error.mean()"
      ],
      "metadata": {
        "colab": {
          "base_uri": "https://localhost:8080/"
        },
        "id": "y1PoR0f6j-Qg",
        "outputId": "2a703cd8-956e-4a7c-e280-f164d528a776"
      },
      "execution_count": 50,
      "outputs": [
        {
          "output_type": "execute_result",
          "data": {
            "text/plain": [
              "(182.5955478593956, 79.43849625749269)"
            ]
          },
          "metadata": {},
          "execution_count": 50
        }
      ]
    },
    {
      "cell_type": "code",
      "source": [
        "df_survey[df_survey[\"Do you consider yourself a sports fan?\"] == \"Yes\"].percent_error.median(), df_survey[df_survey[\"Do you consider yourself a sports fan?\"] == \"No\"].percent_error.median()"
      ],
      "metadata": {
        "colab": {
          "base_uri": "https://localhost:8080/"
        },
        "id": "UW-u6-jmrmt2",
        "outputId": "91dd67d5-9e27-459b-8c8d-889f5f01b7e5"
      },
      "execution_count": 59,
      "outputs": [
        {
          "output_type": "execute_result",
          "data": {
            "text/plain": [
              "(97.73888662777551, 71.73608284719396)"
            ]
          },
          "metadata": {},
          "execution_count": 59
        }
      ]
    },
    {
      "cell_type": "code",
      "source": [
        "df_survey[df_survey[\"What is your major?\"] == \"Computer Science\"].percent_error.mean(), df_survey[~(df_survey[\"What is your major?\"] == \"Computer Science\")].percent_error.mean()"
      ],
      "metadata": {
        "colab": {
          "base_uri": "https://localhost:8080/"
        },
        "id": "n328b8EwnR57",
        "outputId": "d0c89eb3-4465-42f2-867e-a1a94ce86827"
      },
      "execution_count": 51,
      "outputs": [
        {
          "output_type": "execute_result",
          "data": {
            "text/plain": [
              "(165.58080898737987, 89.33895570868751)"
            ]
          },
          "metadata": {},
          "execution_count": 51
        }
      ]
    },
    {
      "cell_type": "code",
      "source": [
        "df_survey[df_survey[\"What is your major?\"] == \"Computer Science\"].percent_error.median(), df_survey[~(df_survey[\"What is your major?\"] == \"Computer Science\")].percent_error.median()"
      ],
      "metadata": {
        "colab": {
          "base_uri": "https://localhost:8080/"
        },
        "id": "wgNGySygrsIq",
        "outputId": "447121a7-dbb0-44a5-fbdd-46d75a43269a"
      },
      "execution_count": 60,
      "outputs": [
        {
          "output_type": "execute_result",
          "data": {
            "text/plain": [
              "(77.38886627775517, 88.69443313887759)"
            ]
          },
          "metadata": {},
          "execution_count": 60
        }
      ]
    },
    {
      "cell_type": "code",
      "source": [
        "df_survey[df_survey[\"Do you enjoy video games?\"] == \"Yes\"].percent_error.mean(), df_survey[(df_survey[\"Do you enjoy video games?\"] == \"No\")].percent_error.mean()"
      ],
      "metadata": {
        "colab": {
          "base_uri": "https://localhost:8080/"
        },
        "id": "eNlyMJ2IoiM7",
        "outputId": "de163113-ecc6-4d46-a530-7654729b37d3"
      },
      "execution_count": 52,
      "outputs": [
        {
          "output_type": "execute_result",
          "data": {
            "text/plain": [
              "(117.99311812056256, 160.22945082774143)"
            ]
          },
          "metadata": {},
          "execution_count": 52
        }
      ]
    },
    {
      "cell_type": "code",
      "source": [
        "df_survey[df_survey[\"Do you enjoy video games?\"] == \"Yes\"].percent_error.median(), df_survey[(df_survey[\"Do you enjoy video games?\"] == \"No\")].percent_error.mean()"
      ],
      "metadata": {
        "colab": {
          "base_uri": "https://localhost:8080/"
        },
        "id": "YeXZCTJkrxwW",
        "outputId": "33a42fb5-228c-4ed4-aa76-91778d940f4e"
      },
      "execution_count": 61,
      "outputs": [
        {
          "output_type": "execute_result",
          "data": {
            "text/plain": [
              "(86.4333197666531, 160.22945082774143)"
            ]
          },
          "metadata": {},
          "execution_count": 61
        }
      ]
    },
    {
      "cell_type": "code",
      "source": [
        "df_survey[df_survey['live_in_slo'] == \"yes\"].percent_error.mean(), df_survey[df_survey['live_in_slo'] == \"no\"].percent_error.mean()"
      ],
      "metadata": {
        "colab": {
          "base_uri": "https://localhost:8080/"
        },
        "id": "9kREdsHmoxKm",
        "outputId": "64973aa2-1249-48dd-bcc8-315d7be4ee71"
      },
      "execution_count": 53,
      "outputs": [
        {
          "output_type": "execute_result",
          "data": {
            "text/plain": [
              "(122.81184561259214, 136.26600642156194)"
            ]
          },
          "metadata": {},
          "execution_count": 53
        }
      ]
    },
    {
      "cell_type": "code",
      "source": [
        "df_survey[df_survey['live_in_slo'] == \"yes\"].percent_error.median(), df_survey[df_survey['live_in_slo'] == \"no\"].percent_error.median()"
      ],
      "metadata": {
        "colab": {
          "base_uri": "https://localhost:8080/"
        },
        "id": "VujhNSqrr5go",
        "outputId": "d112f348-b04d-42b0-d3db-228451bfbb34"
      },
      "execution_count": 62,
      "outputs": [
        {
          "output_type": "execute_result",
          "data": {
            "text/plain": [
              "(95.3647175869398, 71.73608284719396)"
            ]
          },
          "metadata": {},
          "execution_count": 62
        }
      ]
    },
    {
      "cell_type": "code",
      "source": [
        "# I would like to start by saying that these values are not conclusive in any way, especially since many\n",
        "# assumptions were taken such as what the \"correct answer\" was in the first place. \n",
        "\n",
        "# Based off of the mean of percent error of the guesses here are the results:\n",
        "  # artistic people did sligtly worse than non artistic people\n",
        "  # sports fans did significantly worse than non sports fans\n",
        "  # computer science majors did worse than non-cs majors\n",
        "  # video game players did better than non video game players\n",
        "  # those who live in slo did slightly better than those who do not live in slo\n",
        "\n",
        "# However, mean is not always the best because outliers heavily affect them\n",
        "# so, here are the results based off of the median instead: \n",
        "  # artistic people did sligtly worse than non artistic people (same as mean)\n",
        "  # sports fans did worse than non sports fans (same as mean, not as drastic)\n",
        "  # computer science majors did BETTER than non-cs majors\n",
        "  # video game players did better than non video game players (same as mean)\n",
        "  # those who live in slo did worse than those who do not live in slo\n",
        "# lower sum of percent error = \"doing better\""
      ],
      "metadata": {
        "id": "DEK6T26W3sCW"
      },
      "execution_count": 63,
      "outputs": []
    },
    {
      "cell_type": "markdown",
      "metadata": {
        "id": "rlclwdA0pGb0"
      },
      "source": [
        "## Question 4\n",
        "\n",
        "Write and answer your own question using this data set."
      ]
    },
    {
      "cell_type": "code",
      "metadata": {
        "id": "-DGR6Q-QpMls",
        "colab": {
          "base_uri": "https://localhost:8080/",
          "height": 265
        },
        "outputId": "fa07150b-84f8-4585-b827-b51e5ab51034"
      },
      "source": [
        "# Q: Make a visual to find the most common majors in DATA301.\n",
        "df_survey[\"What is your major?\"].value_counts().plot(kind='pie', autopct='%1.1f%%')\n",
        "\n",
        "# wanted to try making a pie chart (found solution using google)"
      ],
      "execution_count": 64,
      "outputs": [
        {
          "output_type": "execute_result",
          "data": {
            "text/plain": [
              "<matplotlib.axes._subplots.AxesSubplot at 0x7f4c5b205250>"
            ]
          },
          "metadata": {},
          "execution_count": 64
        },
        {
          "output_type": "display_data",
          "data": {
            "image/png": "[encoded data removed]",
            "text/plain": [
              "<Figure size 432x288 with 1 Axes>"
            ]
          },
          "metadata": {}
        }
      ]
    }
  ]
}